{
 "cells": [
  {
   "cell_type": "markdown",
   "id": "a98e32c4",
   "metadata": {},
   "source": [
    "<h1>Import Library"
   ]
  },
  {
   "cell_type": "code",
   "execution_count": 2,
   "id": "0ac29296",
   "metadata": {},
   "outputs": [
    {
     "name": "stderr",
     "output_type": "stream",
     "text": [
      "c:\\Users\\DELL\\.conda\\envs\\tf-env\\lib\\site-packages\\tqdm\\auto.py:21: TqdmWarning: IProgress not found. Please update jupyter and ipywidgets. See https://ipywidgets.readthedocs.io/en/stable/user_install.html\n",
      "  from .autonotebook import tqdm as notebook_tqdm\n"
     ]
    }
   ],
   "source": [
    "import pandas as pd\n",
    "from sklearn.model_selection import train_test_split\n",
    "from sklearn.preprocessing import LabelEncoder\n",
    "import re\n",
    "from Sastrawi.Stemmer.StemmerFactory import StemmerFactory\n",
    "from sklearn.preprocessing import LabelEncoder\n",
    "import matplotlib.pyplot as plt\n",
    "import joblib\n",
    "from transformers import BertTokenizer"
   ]
  },
  {
   "cell_type": "markdown",
   "id": "7f123a7d",
   "metadata": {},
   "source": [
    "<h1> Load Dataset"
   ]
  },
  {
   "cell_type": "code",
   "execution_count": 3,
   "id": "9daab5e4",
   "metadata": {},
   "outputs": [],
   "source": [
    "df = pd.read_csv('../data/raw/synthetic_vehicle_complaints.csv')"
   ]
  },
  {
   "cell_type": "code",
   "execution_count": 4,
   "id": "7bd7adc4",
   "metadata": {},
   "outputs": [
    {
     "data": {
      "text/html": [
       "<div>\n",
       "<style scoped>\n",
       "    .dataframe tbody tr th:only-of-type {\n",
       "        vertical-align: middle;\n",
       "    }\n",
       "\n",
       "    .dataframe tbody tr th {\n",
       "        vertical-align: top;\n",
       "    }\n",
       "\n",
       "    .dataframe thead th {\n",
       "        text-align: right;\n",
       "    }\n",
       "</style>\n",
       "<table border=\"1\" class=\"dataframe\">\n",
       "  <thead>\n",
       "    <tr style=\"text-align: right;\">\n",
       "      <th></th>\n",
       "      <th>VehicleType</th>\n",
       "      <th>Brand</th>\n",
       "      <th>Year</th>\n",
       "      <th>Mileage</th>\n",
       "      <th>Complaint</th>\n",
       "      <th>DamageLevel</th>\n",
       "      <th>ServiceType</th>\n",
       "      <th>Price</th>\n",
       "      <th>FirstAidSolution</th>\n",
       "    </tr>\n",
       "  </thead>\n",
       "  <tbody>\n",
       "    <tr>\n",
       "      <th>0</th>\n",
       "      <td>Car</td>\n",
       "      <td>Suzuki</td>\n",
       "      <td>2020</td>\n",
       "      <td>62385</td>\n",
       "      <td>Oli bocor</td>\n",
       "      <td>Low</td>\n",
       "      <td>Oil Change</td>\n",
       "      <td>241006</td>\n",
       "      <td>1. Matikan mesin\\n2. Periksa bagian bawah kend...</td>\n",
       "    </tr>\n",
       "    <tr>\n",
       "      <th>1</th>\n",
       "      <td>Motorcycle</td>\n",
       "      <td>Kawasaki</td>\n",
       "      <td>2009</td>\n",
       "      <td>30677</td>\n",
       "      <td>Oli bocor</td>\n",
       "      <td>Medium</td>\n",
       "      <td>Oil Change</td>\n",
       "      <td>400116</td>\n",
       "      <td>1. Matikan mesin\\n2. Periksa bagian bawah kend...</td>\n",
       "    </tr>\n",
       "    <tr>\n",
       "      <th>2</th>\n",
       "      <td>Car</td>\n",
       "      <td>Honda</td>\n",
       "      <td>2018</td>\n",
       "      <td>69984</td>\n",
       "      <td>Ban bocor</td>\n",
       "      <td>Low</td>\n",
       "      <td>Tire Service</td>\n",
       "      <td>115206</td>\n",
       "      <td>1. Pinggirkan kendaraan\\n2. Gunakan ban serep\\...</td>\n",
       "    </tr>\n",
       "    <tr>\n",
       "      <th>3</th>\n",
       "      <td>Motorcycle</td>\n",
       "      <td>Honda</td>\n",
       "      <td>2021</td>\n",
       "      <td>148584</td>\n",
       "      <td>Radiator bocor</td>\n",
       "      <td>Medium</td>\n",
       "      <td>Cooling System Repair</td>\n",
       "      <td>363701</td>\n",
       "      <td>1. Matikan mesin\\n2. Tambahkan air sementara\\n...</td>\n",
       "    </tr>\n",
       "    <tr>\n",
       "      <th>4</th>\n",
       "      <td>Car</td>\n",
       "      <td>Nissan</td>\n",
       "      <td>2023</td>\n",
       "      <td>27836</td>\n",
       "      <td>Kopling slip</td>\n",
       "      <td>Low</td>\n",
       "      <td>Transmission Repair</td>\n",
       "      <td>172572</td>\n",
       "      <td>1. Hindari perpindahan gigi mendadak\\n2. Kuran...</td>\n",
       "    </tr>\n",
       "  </tbody>\n",
       "</table>\n",
       "</div>"
      ],
      "text/plain": [
       "  VehicleType     Brand  Year  Mileage       Complaint DamageLevel  \\\n",
       "0         Car    Suzuki  2020    62385       Oli bocor         Low   \n",
       "1  Motorcycle  Kawasaki  2009    30677       Oli bocor      Medium   \n",
       "2         Car     Honda  2018    69984       Ban bocor         Low   \n",
       "3  Motorcycle     Honda  2021   148584  Radiator bocor      Medium   \n",
       "4         Car    Nissan  2023    27836    Kopling slip         Low   \n",
       "\n",
       "             ServiceType   Price  \\\n",
       "0             Oil Change  241006   \n",
       "1             Oil Change  400116   \n",
       "2           Tire Service  115206   \n",
       "3  Cooling System Repair  363701   \n",
       "4    Transmission Repair  172572   \n",
       "\n",
       "                                    FirstAidSolution  \n",
       "0  1. Matikan mesin\\n2. Periksa bagian bawah kend...  \n",
       "1  1. Matikan mesin\\n2. Periksa bagian bawah kend...  \n",
       "2  1. Pinggirkan kendaraan\\n2. Gunakan ban serep\\...  \n",
       "3  1. Matikan mesin\\n2. Tambahkan air sementara\\n...  \n",
       "4  1. Hindari perpindahan gigi mendadak\\n2. Kuran...  "
      ]
     },
     "execution_count": 4,
     "metadata": {},
     "output_type": "execute_result"
    }
   ],
   "source": [
    "df.head()"
   ]
  },
  {
   "cell_type": "code",
   "execution_count": 5,
   "id": "5ed92dad",
   "metadata": {},
   "outputs": [
    {
     "name": "stdout",
     "output_type": "stream",
     "text": [
      "<class 'pandas.core.frame.DataFrame'>\n",
      "RangeIndex: 1000 entries, 0 to 999\n",
      "Data columns (total 9 columns):\n",
      " #   Column            Non-Null Count  Dtype \n",
      "---  ------            --------------  ----- \n",
      " 0   VehicleType       1000 non-null   object\n",
      " 1   Brand             1000 non-null   object\n",
      " 2   Year              1000 non-null   int64 \n",
      " 3   Mileage           1000 non-null   int64 \n",
      " 4   Complaint         1000 non-null   object\n",
      " 5   DamageLevel       1000 non-null   object\n",
      " 6   ServiceType       1000 non-null   object\n",
      " 7   Price             1000 non-null   int64 \n",
      " 8   FirstAidSolution  1000 non-null   object\n",
      "dtypes: int64(3), object(6)\n",
      "memory usage: 70.4+ KB\n"
     ]
    }
   ],
   "source": [
    "df.info()"
   ]
  },
  {
   "cell_type": "code",
   "execution_count": 6,
   "id": "0271614d",
   "metadata": {},
   "outputs": [
    {
     "data": {
      "text/plain": [
       "VehicleType         0\n",
       "Brand               0\n",
       "Year                0\n",
       "Mileage             0\n",
       "Complaint           0\n",
       "DamageLevel         0\n",
       "ServiceType         0\n",
       "Price               0\n",
       "FirstAidSolution    0\n",
       "dtype: int64"
      ]
     },
     "execution_count": 6,
     "metadata": {},
     "output_type": "execute_result"
    }
   ],
   "source": [
    "df.isnull().sum()"
   ]
  },
  {
   "cell_type": "code",
   "execution_count": 7,
   "id": "bfa90e0f",
   "metadata": {},
   "outputs": [
    {
     "data": {
      "text/plain": [
       "ServiceType\n",
       "Electrical Repair        146\n",
       "Transmission Repair      144\n",
       "Suspension Repair         85\n",
       "AC Repair                 77\n",
       "Tire Service              75\n",
       "Power Steering Repair     73\n",
       "Battery Replacement       70\n",
       "Cooling System Repair     69\n",
       "Brake Service             68\n",
       "Oil Change                66\n",
       "Engine Repair             65\n",
       "General Checkup           62\n",
       "Name: count, dtype: int64"
      ]
     },
     "execution_count": 7,
     "metadata": {},
     "output_type": "execute_result"
    }
   ],
   "source": [
    "df[\"ServiceType\"].value_counts()"
   ]
  },
  {
   "cell_type": "code",
   "execution_count": 8,
   "id": "48ccf34a",
   "metadata": {},
   "outputs": [
    {
     "data": {
      "text/plain": [
       "521            AC tidak dingin\n",
       "737             Radiator bocor\n",
       "740               Baterai soak\n",
       "660             Suspensi keras\n",
       "411    Starter tidak berfungsi\n",
       "Name: Complaint, dtype: object"
      ]
     },
     "execution_count": 8,
     "metadata": {},
     "output_type": "execute_result"
    }
   ],
   "source": [
    "df[\"Complaint\"].sample(5, random_state=42)"
   ]
  },
  {
   "cell_type": "markdown",
   "id": "004803a1",
   "metadata": {},
   "source": [
    "<h1> Pre Processing"
   ]
  },
  {
   "cell_type": "markdown",
   "id": "360f45c3",
   "metadata": {},
   "source": [
    "<h2>Text Cleaning"
   ]
  },
  {
   "cell_type": "code",
   "execution_count": 9,
   "id": "f9fbaa44",
   "metadata": {},
   "outputs": [
    {
     "data": {
      "text/html": [
       "<div>\n",
       "<style scoped>\n",
       "    .dataframe tbody tr th:only-of-type {\n",
       "        vertical-align: middle;\n",
       "    }\n",
       "\n",
       "    .dataframe tbody tr th {\n",
       "        vertical-align: top;\n",
       "    }\n",
       "\n",
       "    .dataframe thead th {\n",
       "        text-align: right;\n",
       "    }\n",
       "</style>\n",
       "<table border=\"1\" class=\"dataframe\">\n",
       "  <thead>\n",
       "    <tr style=\"text-align: right;\">\n",
       "      <th></th>\n",
       "      <th>Complaint</th>\n",
       "      <th>CleanComplaint</th>\n",
       "    </tr>\n",
       "  </thead>\n",
       "  <tbody>\n",
       "    <tr>\n",
       "      <th>0</th>\n",
       "      <td>Oli bocor</td>\n",
       "      <td>oli bocor</td>\n",
       "    </tr>\n",
       "    <tr>\n",
       "      <th>1</th>\n",
       "      <td>Oli bocor</td>\n",
       "      <td>oli bocor</td>\n",
       "    </tr>\n",
       "    <tr>\n",
       "      <th>2</th>\n",
       "      <td>Ban bocor</td>\n",
       "      <td>ban bocor</td>\n",
       "    </tr>\n",
       "    <tr>\n",
       "      <th>3</th>\n",
       "      <td>Radiator bocor</td>\n",
       "      <td>radiator bocor</td>\n",
       "    </tr>\n",
       "    <tr>\n",
       "      <th>4</th>\n",
       "      <td>Kopling slip</td>\n",
       "      <td>kopling slip</td>\n",
       "    </tr>\n",
       "  </tbody>\n",
       "</table>\n",
       "</div>"
      ],
      "text/plain": [
       "        Complaint  CleanComplaint\n",
       "0       Oli bocor       oli bocor\n",
       "1       Oli bocor       oli bocor\n",
       "2       Ban bocor       ban bocor\n",
       "3  Radiator bocor  radiator bocor\n",
       "4    Kopling slip    kopling slip"
      ]
     },
     "execution_count": 9,
     "metadata": {},
     "output_type": "execute_result"
    }
   ],
   "source": [
    "def basic_cleaning(text):\n",
    "    text = str(text).lower() #lowercase\n",
    "    text = re.sub(r'[^a-zA-Z\\s]', '', text) #hapus angka dan simbol\n",
    "    text = re.sub(r'\\s+', ' ', text).strip() # hapus spasi ganda\n",
    "    return text\n",
    "\n",
    "df[\"CleanComplaint\"] = df[\"Complaint\"].apply(basic_cleaning)\n",
    "df[[\"Complaint\", \"CleanComplaint\"]].head()"
   ]
  },
  {
   "cell_type": "markdown",
   "id": "39b33ca7",
   "metadata": {},
   "source": [
    "<h2>Stemming"
   ]
  },
  {
   "cell_type": "code",
   "execution_count": 10,
   "id": "dc16ef16",
   "metadata": {},
   "outputs": [
    {
     "data": {
      "text/html": [
       "<div>\n",
       "<style scoped>\n",
       "    .dataframe tbody tr th:only-of-type {\n",
       "        vertical-align: middle;\n",
       "    }\n",
       "\n",
       "    .dataframe tbody tr th {\n",
       "        vertical-align: top;\n",
       "    }\n",
       "\n",
       "    .dataframe thead th {\n",
       "        text-align: right;\n",
       "    }\n",
       "</style>\n",
       "<table border=\"1\" class=\"dataframe\">\n",
       "  <thead>\n",
       "    <tr style=\"text-align: right;\">\n",
       "      <th></th>\n",
       "      <th>CleanComplaint</th>\n",
       "      <th>StemmedComplaint</th>\n",
       "    </tr>\n",
       "  </thead>\n",
       "  <tbody>\n",
       "    <tr>\n",
       "      <th>0</th>\n",
       "      <td>oli bocor</td>\n",
       "      <td>oli bocor</td>\n",
       "    </tr>\n",
       "    <tr>\n",
       "      <th>1</th>\n",
       "      <td>oli bocor</td>\n",
       "      <td>oli bocor</td>\n",
       "    </tr>\n",
       "    <tr>\n",
       "      <th>2</th>\n",
       "      <td>ban bocor</td>\n",
       "      <td>ban bocor</td>\n",
       "    </tr>\n",
       "    <tr>\n",
       "      <th>3</th>\n",
       "      <td>radiator bocor</td>\n",
       "      <td>radiator bocor</td>\n",
       "    </tr>\n",
       "    <tr>\n",
       "      <th>4</th>\n",
       "      <td>kopling slip</td>\n",
       "      <td>kopling slip</td>\n",
       "    </tr>\n",
       "  </tbody>\n",
       "</table>\n",
       "</div>"
      ],
      "text/plain": [
       "   CleanComplaint StemmedComplaint\n",
       "0       oli bocor        oli bocor\n",
       "1       oli bocor        oli bocor\n",
       "2       ban bocor        ban bocor\n",
       "3  radiator bocor   radiator bocor\n",
       "4    kopling slip     kopling slip"
      ]
     },
     "execution_count": 10,
     "metadata": {},
     "output_type": "execute_result"
    }
   ],
   "source": [
    "# Inisialisasi stemmer\n",
    "factory = StemmerFactory()\n",
    "stemmer = factory.create_stemmer()\n",
    "\n",
    "# Terapkan stemming\n",
    "df[\"StemmedComplaint\"] = df[\"CleanComplaint\"].apply(stemmer.stem)\n",
    "df[[\"CleanComplaint\", \"StemmedComplaint\"]].head()"
   ]
  },
  {
   "cell_type": "code",
   "execution_count": 11,
   "id": "b39d8f5d",
   "metadata": {},
   "outputs": [
    {
     "data": {
      "text/plain": [
       "{'AC Repair': np.int64(0),\n",
       " 'Battery Replacement': np.int64(1),\n",
       " 'Brake Service': np.int64(2),\n",
       " 'Cooling System Repair': np.int64(3),\n",
       " 'Electrical Repair': np.int64(4),\n",
       " 'Engine Repair': np.int64(5),\n",
       " 'General Checkup': np.int64(6),\n",
       " 'Oil Change': np.int64(7),\n",
       " 'Power Steering Repair': np.int64(8),\n",
       " 'Suspension Repair': np.int64(9),\n",
       " 'Tire Service': np.int64(10),\n",
       " 'Transmission Repair': np.int64(11)}"
      ]
     },
     "execution_count": 11,
     "metadata": {},
     "output_type": "execute_result"
    }
   ],
   "source": [
    "le = LabelEncoder()\n",
    "df[\"Label\"] = le.fit_transform(df[\"ServiceType\"])\n",
    "\n",
    "# Simpan label encoder jika perlu untuk prediksi nanti\n",
    "joblib.dump(le, \"label_encoder.pkl\")\n",
    "\n",
    "# Lihat mapping label\n",
    "dict(zip(le.classes_, le.transform(le.classes_)))"
   ]
  },
  {
   "cell_type": "code",
   "execution_count": 12,
   "id": "9263be14",
   "metadata": {},
   "outputs": [
    {
     "data": {
      "image/png": "[encoded data removed]",
      "text/plain": [
       "<Figure size 1000x400 with 1 Axes>"
      ]
     },
     "metadata": {},
     "output_type": "display_data"
    }
   ],
   "source": [
    "df[\"ServiceType\"].value_counts().plot(kind=\"bar\", figsize=(10,4), title=\"Distribusi Service Type\")\n",
    "plt.xlabel(\"Service Type\")\n",
    "plt.ylabel(\"Jumlah\")\n",
    "plt.xticks(rotation=45)\n",
    "plt.grid()\n",
    "plt.tight_layout()\n",
    "plt.show()"
   ]
  },
  {
   "cell_type": "markdown",
   "id": "2cdd838f",
   "metadata": {},
   "source": [
    "<h1> Tokenisasi"
   ]
  },
  {
   "cell_type": "code",
   "execution_count": 13,
   "id": "e8f8c2e1",
   "metadata": {},
   "outputs": [],
   "source": [
    "# Load tokenizer IndoBERT\n",
    "tokenizer = BertTokenizer.from_pretrained(\"indobenchmark/indobert-base-p1\")\n",
    "\n",
    "# Tokenisasi keluhan yang sudah di-stemming\n",
    "texts = df[\"StemmedComplaint\"].tolist()\n",
    "labels = df[\"Label\"].tolist()\n",
    "\n",
    "# Tokenisasi batch\n",
    "encodings = tokenizer(\n",
    "    texts,\n",
    "    truncation=True,\n",
    "    padding=True,\n",
    "    max_length=64,\n",
    "    return_tensors=\"pt\"\n",
    ")"
   ]
  },
  {
   "cell_type": "code",
   "execution_count": null,
   "id": "88b287ef",
   "metadata": {},
   "outputs": [],
   "source": []
  }
 ],
 "metadata": {
  "kernelspec": {
   "display_name": "Python 3",
   "language": "python",
   "name": "python3"
  },
  "language_info": {
   "codemirror_mode": {
    "name": "ipython",
    "version": 3
   },
   "file_extension": ".py",
   "mimetype": "text/x-python",
   "name": "python",
   "nbconvert_exporter": "python",
   "pygments_lexer": "ipython3",
   "version": "3.10.17"
  }
 },
 "nbformat": 4,
 "nbformat_minor": 5
}
